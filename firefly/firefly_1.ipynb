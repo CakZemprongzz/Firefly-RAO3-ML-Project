{
 "cells": [
  {
   "cell_type": "markdown",
   "metadata": {},
   "source": [
    "Firefly Algorithm"
   ]
  },
  {
   "cell_type": "markdown",
   "metadata": {},
   "source": [
    "Name    : <br>\n",
    "SID     :"
   ]
  },
  {
   "cell_type": "markdown",
   "metadata": {},
   "source": [
    "# Install Dependicies"
   ]
  },
  {
   "cell_type": "code",
   "execution_count": null,
   "metadata": {},
   "outputs": [],
   "source": [
    "%pip install matplotlib numpy pillow"
   ]
  },
  {
   "cell_type": "markdown",
   "metadata": {},
   "source": [
    "# Fungsi F16"
   ]
  },
  {
   "cell_type": "markdown",
   "metadata": {},
   "source": [
    "Fungsi F16 didapat kan dari <br>\n",
    "\n",
    "https://www.mathworks.com/matlabcentral/fileexchange/125645-drawing-code-for-mathematical-benchmark-functions"
   ]
  },
  {
   "cell_type": "code",
   "execution_count": null,
   "metadata": {},
   "outputs": [],
   "source": [
    "def f16(x1, x2):\n",
    "    return 4*x1**2 - 2.1*x1**4 + (1/3)*x1**6 + x1*x2 - 4*x2**2 + 4*x2**4"
   ]
  },
  {
   "cell_type": "markdown",
   "metadata": {},
   "source": [
    "# Kode"
   ]
  },
  {
   "cell_type": "markdown",
   "metadata": {},
   "source": [
    "## Import Library"
   ]
  },
  {
   "cell_type": "code",
   "execution_count": null,
   "metadata": {},
   "outputs": [],
   "source": [
    "import numpy as np\n",
    "import matplotlib.pyplot as plt\n",
    "from matplotlib.animation import FuncAnimation, PillowWriter\n",
    "import math"
   ]
  },
  {
   "cell_type": "markdown",
   "metadata": {},
   "source": [
    "## Parameter"
   ]
  },
  {
   "cell_type": "markdown",
   "metadata": {},
   "source": [
    "Parameter di dalam firefly algorithm ada berapa jenis seperti yang dijelaskan di bawah ini"
   ]
  },
  {
   "cell_type": "code",
   "execution_count": null,
   "metadata": {},
   "outputs": [],
   "source": [
    "# Parameter Firefly Algorithm\n",
    "n = 100  # Jumlah kunang-kunang dalam 1 populasi\n",
    "max_iter = 200 # Jumlah iterasi\n",
    "alpha = 0.1  # Mengontrol parameter randomness dalam pegerakan kunang kunang\n",
    "gamma = 1 # Seberapa terang cahaya/penyerapan cahaya antar kunang kunang\n",
    "beta_init = 1  # Mengontrol seberapa tinggi daya tarik antar kunang kunang"
   ]
  },
  {
   "cell_type": "markdown",
   "metadata": {},
   "source": [
    "## Inisialisasi Populasi"
   ]
  },
  {
   "cell_type": "markdown",
   "metadata": {},
   "source": [
    "Ada beberapa baris kode yang akan di implemetasi sebagai Inisialisi Populasi. <br>\n",
    "\n",
    "1. np.random.seed berguna untuk memastikan bilangan acak setidaknya dapat di replikasi karena memiliki seed yang sama\n",
    "2. Array untuk menyimpan para kunang kunang\n",
    "3. Menghitung fitness fireflies itu sendiri"
   ]
  },
  {
   "cell_type": "code",
   "execution_count": null,
   "metadata": {},
   "outputs": [],
   "source": [
    "np.random.seed(42) # Memastikan bilangan acak dapat di replikasi\n",
    "fireflies = np.random.uniform(-0.7, 0.7, (n, 2)) # Menghasilkan array n*2 dengan range -0.7 , 0.7\n",
    "fitness = f16(fireflies[:, 0], fireflies[:, 1]) \n",
    "# Memanggi fungsi F16 dan memasukan x1 dan x2, fireflies[:,0] merupakan array berisi hasil x1 dan fireflies [:,1] merupakan array berisi hasil x2."
   ]
  },
  {
   "cell_type": "code",
   "execution_count": null,
   "metadata": {},
   "outputs": [],
   "source": [
    "# Simpan data untuk animasi\n",
    "history = []\n",
    "# Track the best solution found\n",
    "best_position = None\n",
    "best_fitness = np.inf \n",
    "best_firefly_index = np.argmin(fitness)"
   ]
  },
  {
   "cell_type": "markdown",
   "metadata": {},
   "source": [
    "## Firefly Algorithm"
   ]
  },
  {
   "cell_type": "markdown",
   "metadata": {},
   "source": [
    "Firefly Algorithm adalah algoritma yang diilhami oleh perilaku kunang-kunang. Prinsip utamanya adalah bahwa kunang-kunang akan tertarik pada cahaya yang lebih terang, dan mereka bergerak menuju kunang-kunang yang lebih terang."
   ]
  },
  {
   "cell_type": "code",
   "execution_count": null,
   "metadata": {},
   "outputs": [],
   "source": [
    "for t in range(max_iter): # Iterasi dalam firefly algorithm\n",
    "    history.append(fireflies.copy()) # Kebutuhan animasi\n",
    "    for i in range(n):\n",
    "        for j in range(n):\n",
    "            if fitness[i] > fitness[j]: # Akan memeriksa apakah kunang kunang 'i' lebih besar dari 'j'. Apabila benar maka posisi kunang kunang 'i' akan di perbaharui mendekati 'j'\n",
    "                r = math.dist(fireflies[i],fireflies[j]) #Menghitung Euclidean distance antar kunang kunang\n",
    "                beta = beta_init * np.exp(-gamma * r) # Menghitung beta ini bisa dilakukan dengan r atau r^2 \n",
    "                fireflies[i] = fireflies[i] + beta * (fireflies[j] - fireflies[i]) + alpha * (np.random.rand(2) - 0.5) # Posisi kunang kunang diperbaharui\n",
    "                fireflies[i] = np.clip(fireflies[i], -0.7, 0.7) # Membatasi kunang kunang dalam -0.7 dan 0.7\n",
    "                fitness[i] = f16(fireflies[i, 0], fireflies[i, 1]) # Fitness Update\n",
    "                                # Update the best solution found\n",
    "                if fitness[i] < best_fitness:\n",
    "                    best_fitness = fitness[i]\n",
    "                    best_position = fireflies[i].copy()\n",
    "                    print(\"NEW BEST\",best_position)\n",
    "                    \n",
    "\n",
    "history.append(fireflies.copy())"
   ]
  },
  {
   "cell_type": "markdown",
   "metadata": {},
   "source": [
    "## Buat GIF dari data yang telah ada"
   ]
  },
  {
   "cell_type": "code",
   "execution_count": null,
   "metadata": {},
   "outputs": [],
   "source": [
    "# Plot hasil dan animasi\n",
    "X1 = np.linspace(-1, 1, 400)\n",
    "X2 = np.linspace(-1, 1, 400)\n",
    "X1, X2 = np.meshgrid(X1, X2)\n",
    "Z = f16(X1, X2)\n",
    "\n",
    "fig, ax = plt.subplots()\n",
    "contour = ax.contour(X1, X2, Z, levels=50)\n",
    "scatter = ax.scatter(fireflies[:, 0], fireflies[:, 1], c='red')\n",
    "\n",
    "def update(frame):\n",
    "    global best_firefly_index  # Access to the global best_firefly_index if needed\n",
    "    ax.clear()\n",
    "    ax.contour(X1, X2, Z, levels=50)\n",
    "    fireflies_this_frame = history[frame]\n",
    "    ax.scatter(fireflies_this_frame[:, 0], fireflies_this_frame[:, 1], c='red')\n",
    "    # Update the best position if necessary, here assumed to still be valid\n",
    "    ax.scatter(fireflies_this_frame[best_firefly_index, 0], fireflies_this_frame[best_firefly_index, 1], c='blue', s=100)\n",
    "    ax.set_title(f'Firefly Algorithm Iteration {frame}')\n",
    "    ax.set_xlabel('x1')\n",
    "    ax.set_ylabel('x2')\n",
    "\n",
    "ani = FuncAnimation(fig, update, frames=len(history), repeat=False) # type: ignore\n",
    "\n",
    "# Simpan animasi sebagai GIF\n",
    "writer = PillowWriter(fps=5)\n",
    "ani.save(\"firefly_algorithm_1.gif\", writer=writer)"
   ]
  },
  {
   "cell_type": "code",
   "execution_count": null,
   "metadata": {},
   "outputs": [],
   "source": [
    "# Output the best solution found\n",
    "print(\"Best position:\", best_position)\n",
    "print(\"Best fitness:\", best_fitness)"
   ]
  }
 ],
 "metadata": {
  "kernelspec": {
   "display_name": "Python 3 (ipykernel)",
   "language": "python",
   "name": "python3"
  },
  "language_info": {
   "codemirror_mode": {
    "name": "ipython",
    "version": 3
   },
   "file_extension": ".py",
   "mimetype": "text/x-python",
   "name": "python",
   "nbconvert_exporter": "python",
   "pygments_lexer": "ipython3",
   "version": "3.12.3"
  }
 },
 "nbformat": 4,
 "nbformat_minor": 2
}
