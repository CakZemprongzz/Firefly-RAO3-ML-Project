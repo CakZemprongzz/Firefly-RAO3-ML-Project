{
 "cells": [
  {
   "cell_type": "markdown",
   "metadata": {},
   "source": [
    "RAO 3 Algorithm"
   ]
  },
  {
   "cell_type": "markdown",
   "metadata": {},
   "source": [
    "Name    : <br>\n",
    "SID     :"
   ]
  },
  {
   "cell_type": "markdown",
   "metadata": {},
   "source": [
    "Algoritma RAO3 (Recent Advances in Optimization 3) adalah salah satu metode optimasi yang dikembangkan untuk menyelesaikan masalah optimasi yang kompleks dengan efektif. Algoritma ini menggunakan pendekatan yang menggabungkan strategi penyusunan ulang (reshuffling), adaptasi, dan penggunaan operator-operator efektif yang bertujuan untuk mengatasi keterbatasan dari algoritma optimasi generik dalam menemukan solusi yang optimal pada masalah yang memiliki banyak lokal minimum dan kompleksitas tinggi. Berikut adalah penjelasan umum tentang cara kerja RAO3:\n",
    "\n",
    "- Inisialisasi: Seperti kebanyakan algoritma berbasis populasi, RAO3 memulai dengan menginisialisasi populasi solusi secara acak. Populasi ini terdiri dari sejumlah solusi potensial, di mana setiap solusi merepresentasikan sebuah titik dalam ruang pencarian.\n",
    "\n",
    "- Evaluasi: Setiap anggota populasi dievaluasi berdasarkan fungsi tujuan yang didefinisikan. Evaluasi ini menentukan kualitas dari setiap solusi.\n",
    "\n",
    "- Operator Adaptif: RAO3 menggunakan serangkaian operator adaptif yang dirancang untuk meningkatkan solusi saat ini. Operator ini dapat meliputi mutasi, crossover, dan seleksi, yang semuanya diadaptasi berdasarkan karakteristik dari masalah yang sedang dihadapi. Operator-operator ini bertujuan untuk menjaga keragaman dalam populasi dan mencegah konvergensi prematur pada solusi lokal.\n",
    "\n",
    "- Penyusunan Ulang (Reshuffling): Salah satu fitur khas dari RAO3 adalah penggunaan strategi penyusunan ulang, di mana solusi yang kurang efektif atau yang sudah stagnan dalam populasi akan digantikan dengan solusi baru yang dihasilkan secara acak atau melalui teknik heuristik lainnya. Ini membantu dalam mengeksplorasi ruang pencarian lebih luas dan menghindari terjebak pada optimum lokal.\n",
    "\n",
    "- Iterasi: Proses ini diulang dalam sejumlah iterasi, di mana pada setiap iterasi, solusi diperbarui menggunakan operator adaptif dan strategi reshuffling untuk mencoba mencapai solusi yang lebih baik.\n",
    "\n",
    "- Konvergensi: Algoritma berlanjut sampai kriteria konvergensi terpenuhi, yang bisa berupa mencapai jumlah iterasi maksimum atau solusi tidak lagi mengalami perbaikan signifikan.\n",
    "\n",
    "- Solusi Terbaik: Pada akhir iterasi, solusi terbaik dalam populasi dianggap sebagai solusi optimal untuk masalah yang diberikan."
   ]
  },
  {
   "cell_type": "markdown",
   "metadata": {},
   "source": [
    "# Install Dependicies"
   ]
  },
  {
   "cell_type": "code",
   "execution_count": null,
   "metadata": {},
   "outputs": [],
   "source": [
    "%pip install matplotlib numpy pillow"
   ]
  },
  {
   "cell_type": "markdown",
   "metadata": {},
   "source": [
    "# Fungsi F16"
   ]
  },
  {
   "cell_type": "markdown",
   "metadata": {},
   "source": [
    "Fungsi F16 didapat kan dari <br>\n",
    "\n",
    "https://www.mathworks.com/matlabcentral/fileexchange/125645-drawing-code-for-mathematical-benchmark-functions"
   ]
  },
  {
   "cell_type": "code",
   "execution_count": null,
   "metadata": {},
   "outputs": [],
   "source": [
    "def f16(x1, x2):\n",
    "    return 4*x1**2 - 2.1*x1**4 + (1/3)*x1**6 + x1*x2 - 4*x2**2 + 4*x2**4"
   ]
  },
  {
   "cell_type": "markdown",
   "metadata": {},
   "source": [
    "# Kode"
   ]
  },
  {
   "cell_type": "markdown",
   "metadata": {},
   "source": [
    "## Import Library"
   ]
  },
  {
   "cell_type": "code",
   "execution_count": null,
   "metadata": {},
   "outputs": [],
   "source": [
    "import numpy as np\n",
    "import matplotlib.pyplot as plt\n",
    "from matplotlib.animation import FuncAnimation, PillowWriter\n",
    "import math"
   ]
  },
  {
   "cell_type": "markdown",
   "metadata": {},
   "source": [
    "## Parameter"
   ]
  },
  {
   "cell_type": "markdown",
   "metadata": {},
   "source": [
    "RAO 3 sendiri tidak memiliki parameter yang pasti. Namun ada beberapa parameter yang serupa dengan algoritma lainnya, yaitu Iterasi."
   ]
  },
  {
   "cell_type": "code",
   "execution_count": null,
   "metadata": {},
   "outputs": [],
   "source": [
    "# Parameter RAO 3 Algorithm\n",
    "n = 50  # Jumlah populasi\n",
    "max_iter = 100 # Jumlah iterasi"
   ]
  },
  {
   "cell_type": "markdown",
   "metadata": {},
   "source": [
    "## Inisialisasi Populasi"
   ]
  },
  {
   "cell_type": "markdown",
   "metadata": {},
   "source": [
    "Ada beberapa baris kode yang akan di implemetasi sebagai Inisialisi Populasi. <br>\n",
    "\n",
    "1. np.random.seed berguna untuk memastikan bilangan acak setidaknya dapat di replikasi karena memiliki seed yang sama\n",
    "2. Array untuk menyimpan para kunang kunang\n",
    "3. Menghitung fitness fireflies itu sendiri"
   ]
  },
  {
   "cell_type": "code",
   "execution_count": null,
   "metadata": {},
   "outputs": [],
   "source": [
    "np.random.seed(42)\n",
    "pop = np.random.uniform((-0.7 * np.ones(2)), (0.7 * np.ones(2)), (n, 2))\n",
    "fitness = f16(pop[:, 0], pop[:, 1]) "
   ]
  },
  {
   "cell_type": "code",
   "execution_count": null,
   "metadata": {},
   "outputs": [],
   "source": [
    "# Simpan data untuk animasi\n",
    "history = []\n",
    "best_position = None\n",
    "best_fitness = np.inf \n",
    "best_pop_index = np.argmin(fitness)"
   ]
  },
  {
   "cell_type": "markdown",
   "metadata": {},
   "source": [
    "## RAO3 Algorithm"
   ]
  },
  {
   "cell_type": "code",
   "execution_count": null,
   "metadata": {},
   "outputs": [],
   "source": [
    "for t in range(max_iter):\n",
    "    history.append(pop.copy())\n",
    "    best = pop[np.argmin(fitness)]\n",
    "    worst = pop[np.argmax(fitness)]\n",
    "    \n",
    "    for i in range(n):\n",
    "        r = np.random.rand(2)  # Random coefficients\n",
    "        k = np.random.choice(n, 1)[0]\n",
    "        if fitness[i] < fitness[k]:\n",
    "            new_sol = pop[i] + r[1] * (best - np.abs(worst)) + r[0] * (np.abs(pop[i]) - pop[k])\n",
    "        else:\n",
    "            new_sol = pop[i] + r[1] * (best - np.abs(worst)) + r[0] * (np.abs(pop[k]) - pop[i])\n",
    "        \n",
    "        new_sol = np.clip(new_sol, -0.7, 0.7)  # Ensure new solutions are within bounds\n",
    "        new_fitness = f16(new_sol[0], new_sol[1])\n",
    "        \n",
    "        if new_fitness < fitness[i]:\n",
    "            pop[i] = new_sol\n",
    "            fitness[i] = new_fitness\n",
    "            best_fitness = fitness[i]\n",
    "            best_position = pop[i].copy()\n",
    "            print(\"NEW BEST\",best_position)\n",
    "\n",
    "\n",
    "history.append(pop.copy())"
   ]
  },
  {
   "cell_type": "markdown",
   "metadata": {},
   "source": [
    "## Buat GIF dari data yang telah ada"
   ]
  },
  {
   "cell_type": "code",
   "execution_count": null,
   "metadata": {},
   "outputs": [],
   "source": [
    "# Plot hasil dan animasi\n",
    "X1 = np.linspace(-1, 1, 400)\n",
    "X2 = np.linspace(-1, 1, 400)\n",
    "X1, X2 = np.meshgrid(X1, X2)\n",
    "Z = f16(X1, X2)\n",
    "\n",
    "fig, ax = plt.subplots()\n",
    "contour = ax.contourf(X1, X2, Z, levels=50,cmap=\"viridis\")\n",
    "scatter = ax.scatter(pop[:, 0], pop[:, 1], c='red',zorder=5)\n",
    "\n",
    "def update(frame):\n",
    "    global best_firefly_index  # Access to the global best_firefly_index if needed\n",
    "    ax.clear()\n",
    "    ax.contour(X1, X2, Z, levels=50)\n",
    "    fireflies_this_frame = history[frame]\n",
    "    ax.scatter(fireflies_this_frame[:, 0], fireflies_this_frame[:, 1], c='red')\n",
    "    # Update the best position if necessary, here assumed to still be valid\n",
    "    ax.scatter(fireflies_this_frame[best_pop_index, 0], fireflies_this_frame[best_pop_index, 1], c='blue', s=100)\n",
    "    ax.set_title(f'RAO3 Algorithm Iteration {frame}')\n",
    "    ax.set_xlabel('x1')\n",
    "    ax.set_ylabel('x2')\n",
    "\n",
    "ani = FuncAnimation(fig, update, frames=len(history), repeat=False) # type: ignore\n",
    "\n",
    "# Simpan animasi sebagai GIF\n",
    "ani.save(\"rao3_3.gif\", writer='pillow',fps=10)"
   ]
  }
 ],
 "metadata": {
  "kernelspec": {
   "display_name": "Python 3 (ipykernel)",
   "language": "python",
   "name": "python3"
  },
  "language_info": {
   "codemirror_mode": {
    "name": "ipython",
    "version": 3
   },
   "file_extension": ".py",
   "mimetype": "text/x-python",
   "name": "python",
   "nbconvert_exporter": "python",
   "pygments_lexer": "ipython3",
   "version": "3.12.3"
  }
 },
 "nbformat": 4,
 "nbformat_minor": 2
}
