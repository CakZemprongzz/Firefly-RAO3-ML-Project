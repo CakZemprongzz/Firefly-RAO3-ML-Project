{
 "cells": [
  {
   "attachments": {},
   "cell_type": "markdown",
   "id": "0998ab93",
   "metadata": {},
   "source": [
    "# <center>Tugas Besar Individu Pembelajaran Mesin Lanjut</center>"
   ]
  },
  {
   "attachments": {},
   "cell_type": "markdown",
   "id": "b9dd2c3d",
   "metadata": {},
   "source": [
    "<b>Topik</b>\n",
    "Implementation of Swarm Intelligence\n",
    "\n",
    "<b>Dikerjakan oleh</b>\n",
    "Nama - NIM\n",
    "\n",
    "<b>Url presentasi</b>\n",
    "http://"
   ]
  },
  {
   "attachments": {},
   "cell_type": "markdown",
   "id": "06241b0c",
   "metadata": {},
   "source": [
    "Fungsi yang dikerjakan\n",
    "\n",
    "Tulis fungsi di sini \n",
    "- Misal: f2 = ... ... ... \n",
    "\n",
    "Range yang digunakan\n",
    "- Misal: [-5, 5]\n",
    "\n",
    "Algoritma yang digunakan\n",
    "- Algo 1\n",
    "- Algo 2\n",
    "\n"
   ]
  },
  {
   "cell_type": "code",
   "execution_count": null,
   "id": "0d536c3a",
   "metadata": {},
   "outputs": [],
   "source": [
    "# Tuliskan fungsi di sini (untuk evaluasi fitness function)\n",
    "def eval(x1, x2):\n",
    "    # ....\n",
    "    # f2 = ... ...\n",
    "    # return f2\n",
    "    "
   ]
  },
  {
   "cell_type": "code",
   "execution_count": null,
   "id": "c560eb98",
   "metadata": {},
   "outputs": [],
   "source": [
    "# Plot contour plot di sini berdasarkan range yang diberikan\n"
   ]
  },
  {
   "attachments": {},
   "cell_type": "markdown",
   "id": "f67c8e8d",
   "metadata": {},
   "source": [
    "#### Latar Belakang algoritma 1\n",
    "Silahkan double click cell ini dan tulis latar belakang algoritma 1!"
   ]
  },
  {
   "cell_type": "code",
   "execution_count": null,
   "id": "bd1c9727",
   "metadata": {},
   "outputs": [],
   "source": [
    "# Algoritma 1\n",
    "# Write your code here\n",
    "\n"
   ]
  },
  {
   "attachments": {},
   "cell_type": "markdown",
   "id": "7c27d74e",
   "metadata": {},
   "source": [
    "#### Latar Belakang algoritma 2\n",
    "Silahkan double click cell ini dan tulis latar belakang algoritma 2!"
   ]
  },
  {
   "cell_type": "code",
   "execution_count": null,
   "id": "f7769541",
   "metadata": {},
   "outputs": [],
   "source": [
    "# Algoritma 2\n",
    "# Write your code here\n",
    "\n"
   ]
  },
  {
   "attachments": {},
   "cell_type": "markdown",
   "id": "691b437e",
   "metadata": {},
   "source": [
    "#### Running algortima 1\n",
    "Silahkan double click cell ini dan tulis iterasi untuk algoritma 1!\n",
    "Jelaskan pilihan parameter apa saja, berapa, dan mengapa"
   ]
  },
  {
   "cell_type": "code",
   "execution_count": null,
   "id": "348c59c4",
   "metadata": {},
   "outputs": [],
   "source": [
    "# Run algoritma 1\n",
    "# Write your code here\n",
    "\n"
   ]
  },
  {
   "cell_type": "code",
   "execution_count": null,
   "id": "27ae8626",
   "metadata": {},
   "outputs": [],
   "source": [
    "# Plot hasil running algoritma 1 secara interaktif\n",
    "\n"
   ]
  },
  {
   "attachments": {},
   "cell_type": "markdown",
   "id": "2158ee70",
   "metadata": {},
   "source": [
    "#### Running algortima 2\n",
    "Silahkan double click cell ini dan tulis iterasi untuk algoritma 2!\n",
    "Jelaskan pilihan parameter apa saja, berapa, dan mengapa"
   ]
  },
  {
   "cell_type": "code",
   "execution_count": null,
   "id": "db175b05",
   "metadata": {},
   "outputs": [],
   "source": [
    "# Run algoritma 2\n",
    "# Write your code here\n",
    "\n"
   ]
  },
  {
   "cell_type": "code",
   "execution_count": null,
   "id": "e25b398a",
   "metadata": {},
   "outputs": [],
   "source": [
    "# Plot hasil running algoritma 2 secara interaktif\n",
    "\n"
   ]
  },
  {
   "cell_type": "markdown",
   "id": "c5526cf7",
   "metadata": {},
   "source": [
    "#### Hasil dan Analisis\n",
    "Silahkan double click cell ini dan tulis hasil dan analisis!"
   ]
  },
  {
   "cell_type": "markdown",
   "id": "9c39e92b",
   "metadata": {},
   "source": []
  },
  {
   "cell_type": "markdown",
   "id": "8a255fe5",
   "metadata": {},
   "source": [
    "#### Kesimpulan\n",
    "Silahkan double click cell ini dan tulis kesimpulan!"
   ]
  }
 ],
 "metadata": {
  "kernelspec": {
   "display_name": "Python 3 (ipykernel)",
   "language": "python",
   "name": "python3"
  },
  "language_info": {
   "codemirror_mode": {
    "name": "ipython",
    "version": 3
   },
   "file_extension": ".py",
   "mimetype": "text/x-python",
   "name": "python",
   "nbconvert_exporter": "python",
   "pygments_lexer": "ipython3",
   "version": "3.10.9"
  }
 },
 "nbformat": 4,
 "nbformat_minor": 5
}
