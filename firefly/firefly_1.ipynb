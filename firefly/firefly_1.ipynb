{
 "cells": [
  {
   "cell_type": "code",
   "execution_count": null,
   "metadata": {},
   "outputs": [],
   "source": [
    "%pip install matplotlib numpy pillow"
   ]
  },
  {
   "cell_type": "code",
   "execution_count": null,
   "metadata": {},
   "outputs": [],
   "source": [
    "import numpy as np\n",
    "import matplotlib.pyplot as plt\n",
    "from matplotlib.animation import FuncAnimation, PillowWriter\n",
    "\n",
    "# Fungsi F16\n",
    "def f16(x1, x2):\n",
    "    return (4 - 2.1 * x1 ** 2 + (x1 ** 4) / 3) * x1 ** 2 + x1 * x2 + (-4 + 4 * x2 ** 2) * x2 ** 2\n",
    "\n",
    "# Parameter Firefly Algorithm\n",
    "n = 50  # Jumlah kunang-kunang\n",
    "max_iter = 50 # Jumlah iterasi\n",
    "alpha = 0.2  # Randomness strength\n",
    "gamma = 1.0  # Light absorption coefficient\n",
    "beta0 = 1.0  # Attraction coefficient base value\n",
    "\n",
    "# Inisialisasi populasi\n",
    "np.random.seed(42)\n",
    "pop = np.random.uniform(-0.7, 0.7, (n, 2))\n",
    "intensitas = f16(pop[:, 0], pop[:, 1])\n",
    "\n",
    "# Simpan data untuk animasi\n",
    "history = []\n",
    "\n",
    "# Firefly Algorithm\n",
    "for t in range(max_iter):\n",
    "    history.append(pop.copy())\n",
    "    for i in range(n):\n",
    "        for j in range(n):\n",
    "            if intensitas[i] > intensitas[j]:\n",
    "                r = np.linalg.norm(pop[i] - pop[j])\n",
    "                beta = beta0 * np.exp(-gamma * r**2)\n",
    "                pop[i] = pop[i] + beta * (pop[j] - pop[i]) + alpha * (np.random.rand(2) - 0.5)\n",
    "                pop[i] = np.clip(pop[i], -0.7, 0.7)\n",
    "                intensitas[i] = f16(pop[i, 0], pop[i, 1])\n",
    "\n",
    "history.append(pop.copy())\n",
    "\n",
    "# Plot hasil dan animasi\n",
    "X1 = np.linspace(-0.7, 0.7, 400)\n",
    "X2 = np.linspace(-0.7, 0.7, 400)\n",
    "X1, X2 = np.meshgrid(X1, X2)\n",
    "Z = f16(X1, X2)\n",
    "\n",
    "fig, ax = plt.subplots()\n",
    "contour = ax.contour(X1, X2, Z, levels=50)\n",
    "scatter = ax.scatter(pop[:, 0], pop[:, 1], c='red')\n",
    "\n",
    "def update(frame):\n",
    "    ax.clear()\n",
    "    ax.contour(X1, X2, Z, levels=50)\n",
    "    ax.scatter(history[frame][:, 0], history[frame][:, 1], c='red')\n",
    "    ax.set_title('Firefly Algorithm Iteration {}'.format(frame))\n",
    "    ax.set_xlabel('x1')\n",
    "    ax.set_ylabel('x2')\n",
    "\n",
    "ani = FuncAnimation(fig, update, frames=len(history), repeat=False)\n",
    "\n",
    "# Simpan animasi sebagai GIF\n",
    "writer = PillowWriter(fps=5)\n",
    "ani.save(\"firefly_algorithm_1.gif\", writer=writer)\n",
    "\n",
    "plt.show()\n"
   ]
  },
  {
   "cell_type": "markdown",
   "metadata": {},
   "source": [
    "https://github.com/firefly-cpp/FireflyAlgorithm\n"
   ]
  }
 ],
 "metadata": {
  "kernelspec": {
   "display_name": "Python 3 (ipykernel)",
   "language": "python",
   "name": "python3"
  }
 },
 "nbformat": 4,
 "nbformat_minor": 2
}
